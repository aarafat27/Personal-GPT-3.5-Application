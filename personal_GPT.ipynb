{
 "cells": [
  {
   "cell_type": "code",
   "execution_count": 1,
   "id": "4024c8c0",
   "metadata": {},
   "outputs": [],
   "source": [
    "# import all the necessary libraries\n",
    "import openai, pyperclip, os\n",
    "from rich import print\n",
    "import threading\n",
    "import tkinter as tk\n",
    "from tkinter import ttk"
   ]
  },
  {
   "cell_type": "code",
   "execution_count": 3,
   "id": "e8e77562",
   "metadata": {},
   "outputs": [],
   "source": [
    "# you can get your API_KEY from this link: https://platform.openai.com/account/api-keys\n",
    "\n",
    "API_KEY = 'paste your api key'"
   ]
  },
  {
   "cell_type": "code",
   "execution_count": null,
   "id": "6a197497",
   "metadata": {},
   "outputs": [],
   "source": [
    "class OpenAI:\n",
    "    def __init__(self, api_key) -> None:\n",
    "        openai.api_key = api_key\n",
    "        self.response = ''\n",
    "        self.prompt = ''\n",
    "        \n",
    "    def generate_response(self, prompt: str) -> str:\n",
    "        self.prompt = prompt\n",
    "        completion = openai.ChatCompletion.create(model='gpt-3.5-turbo', messages=[{\"role\": \"user\", \"content\": prompt}])\n",
    "        self.response = completion.choices[0].message.content\n",
    "        return self.response\n",
    "\n",
    "    def handle_exception(self, error: str) -> str:\n",
    "        if isinstance(error, openai.error.OpenAIError):\n",
    "            print(f'[bold red] Response had a error: {error}[/bold red]')\n",
    "        elif isinstance(error, IndexError):\n",
    "            print(f'[bold red] Response had a error: no response generated[/bold red]')\n",
    "        elif isinstance(error, Exception):\n",
    "            print(f'[bold red]Error: {error}[/bold red]')\n",
    "        else:\n",
    "            print(error)\n",
    "            "
   ]
  },
  {
   "cell_type": "code",
   "execution_count": null,
   "id": "cc700917",
   "metadata": {},
   "outputs": [],
   "source": [
    "def search(api, entry, text, prompt_label):\n",
    "    prompt = entry.get()\n",
    "\n",
    "    # Create the progress bar widget in the same frame as the search bar\n",
    "    progress = ttk.Progressbar(top_frame, mode='indeterminate', length=170)\n",
    "    progress.place(relx=0.5, rely=1.4, anchor=tk.CENTER)\n",
    "    progress.start()\n",
    "\n",
    "    def generate_response_thread():\n",
    "        try:\n",
    "            response = api.generate_response(prompt)\n",
    "            root.after(0, update_response, response)\n",
    "        except Exception as error:\n",
    "            root.after(0, api.handle_exception, error)\n",
    "\n",
    "    def update_response(response):\n",
    "        text.delete(1.0, tk.END)\n",
    "        text.insert(tk.END, response)\n",
    "        pyperclip.copy(response)\n",
    "        entry.delete(0, tk.END)  # Clear the search bar after a successful search\n",
    "        prompt_label.configure(text=f\"Prompt: {api.prompt}\")\n",
    "        progress.stop()\n",
    "        progress.place_forget()\n",
    "\n",
    "    threading.Thread(target=generate_response_thread).start()\n"
   ]
  },
  {
   "cell_type": "code",
   "execution_count": 5,
   "id": "ceb26bb0",
   "metadata": {},
   "outputs": [],
   "source": [
    "\n",
    "if __name__ == \"__main__\":\n",
    "    api = OpenAI(API_KEY)\n",
    "\n",
    "    root = tk.Tk()\n",
    "    root.title(\"Personal GPT-3.5 Turbo Application\")\n",
    "    root.resizable(False, False)\n",
    "\n",
    "    top_frame = ttk.Frame(root, padding=10)\n",
    "    top_frame.grid(row=0, column=0, sticky=tk.W)\n",
    "    middle_frame = ttk.Frame(root, padding=10)\n",
    "    middle_frame.grid(row=1, column=0, sticky=tk.W)\n",
    "    bottom_frame = ttk.Frame(root, padding=10)\n",
    "    bottom_frame.grid(row=2, column=0, sticky=tk.W)\n",
    "\n",
    "    entry_label = ttk.Label(top_frame, text=\"Search:\")\n",
    "    entry = ttk.Entry(top_frame, width=40)\n",
    "    search_button = ttk.Button(top_frame, text=\"Search\", command=lambda: search(api, entry, response_text, prompt_label))\n",
    "    prompt_label = ttk.Label(middle_frame, text=\"\")\n",
    "    response_label = ttk.Label(bottom_frame, text=\"Response:\")\n",
    "    response_text = tk.Text(bottom_frame, wrap=tk.WORD, width=50, height=15,bg='light blue')\n",
    "    \n",
    "    \n",
    "    entry_label.grid(row=0, column=0, sticky=tk.W)\n",
    "    entry.grid(row=0, column=1, sticky=tk.W)\n",
    "    search_button.grid(row=0, column=2, sticky=tk.W)\n",
    "    prompt_label.grid(row=0, column=0, sticky=tk.W)\n",
    "    response_label.grid(row=0, column=0, sticky=tk.W)\n",
    "    response_text.grid(row=1, column=0, columnspan=3, sticky=tk.W)\n",
    "    \n",
    "\n",
    "    root.mainloop()\n"
   ]
  }
 ],
 "metadata": {
  "kernelspec": {
   "display_name": "Python 3 (ipykernel)",
   "language": "python",
   "name": "python3"
  },
  "language_info": {
   "codemirror_mode": {
    "name": "ipython",
    "version": 3
   },
   "file_extension": ".py",
   "mimetype": "text/x-python",
   "name": "python",
   "nbconvert_exporter": "python",
   "pygments_lexer": "ipython3",
   "version": "3.10.6"
  }
 },
 "nbformat": 4,
 "nbformat_minor": 5
}
